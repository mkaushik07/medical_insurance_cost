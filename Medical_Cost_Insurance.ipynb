{
  "cells": [
    {
      "cell_type": "code",
      "execution_count": 171,
      "metadata": {
        "id": "hqmXTQB7uvpp"
      },
      "outputs": [],
      "source": [
        "import warnings\n",
        "warnings.filterwarnings(\"ignore\")\n",
        "import numpy as np\n",
        "import pandas as pd\n",
        "import matplotlib.pyplot as plt\n",
        "import seaborn as sns\n",
        "\n",
        "%matplotlib inline"
      ]
    },
    {
      "cell_type": "code",
      "execution_count": 172,
      "metadata": {
        "colab": {
          "base_uri": "https://localhost:8080/",
          "height": 206
        },
        "id": "--HpalKyuvpr",
        "outputId": "7bf519c9-a985-4df5-d2e3-44649b5f1bbd"
      },
      "outputs": [
        {
          "output_type": "execute_result",
          "data": {
            "text/plain": [
              "   age     sex     bmi  children smoker     region      charges\n",
              "0   19  female  27.900         0    yes  southwest  16884.92400\n",
              "1   18    male  33.770         1     no  southeast   1725.55230\n",
              "2   28    male  33.000         3     no  southeast   4449.46200\n",
              "3   33    male  22.705         0     no  northwest  21984.47061\n",
              "4   32    male  28.880         0     no  northwest   3866.85520"
            ],
            "text/html": [
              "\n",
              "  <div id=\"df-b23092c9-55a2-4ddc-b9cd-0441798faab9\">\n",
              "    <div class=\"colab-df-container\">\n",
              "      <div>\n",
              "<style scoped>\n",
              "    .dataframe tbody tr th:only-of-type {\n",
              "        vertical-align: middle;\n",
              "    }\n",
              "\n",
              "    .dataframe tbody tr th {\n",
              "        vertical-align: top;\n",
              "    }\n",
              "\n",
              "    .dataframe thead th {\n",
              "        text-align: right;\n",
              "    }\n",
              "</style>\n",
              "<table border=\"1\" class=\"dataframe\">\n",
              "  <thead>\n",
              "    <tr style=\"text-align: right;\">\n",
              "      <th></th>\n",
              "      <th>age</th>\n",
              "      <th>sex</th>\n",
              "      <th>bmi</th>\n",
              "      <th>children</th>\n",
              "      <th>smoker</th>\n",
              "      <th>region</th>\n",
              "      <th>charges</th>\n",
              "    </tr>\n",
              "  </thead>\n",
              "  <tbody>\n",
              "    <tr>\n",
              "      <th>0</th>\n",
              "      <td>19</td>\n",
              "      <td>female</td>\n",
              "      <td>27.900</td>\n",
              "      <td>0</td>\n",
              "      <td>yes</td>\n",
              "      <td>southwest</td>\n",
              "      <td>16884.92400</td>\n",
              "    </tr>\n",
              "    <tr>\n",
              "      <th>1</th>\n",
              "      <td>18</td>\n",
              "      <td>male</td>\n",
              "      <td>33.770</td>\n",
              "      <td>1</td>\n",
              "      <td>no</td>\n",
              "      <td>southeast</td>\n",
              "      <td>1725.55230</td>\n",
              "    </tr>\n",
              "    <tr>\n",
              "      <th>2</th>\n",
              "      <td>28</td>\n",
              "      <td>male</td>\n",
              "      <td>33.000</td>\n",
              "      <td>3</td>\n",
              "      <td>no</td>\n",
              "      <td>southeast</td>\n",
              "      <td>4449.46200</td>\n",
              "    </tr>\n",
              "    <tr>\n",
              "      <th>3</th>\n",
              "      <td>33</td>\n",
              "      <td>male</td>\n",
              "      <td>22.705</td>\n",
              "      <td>0</td>\n",
              "      <td>no</td>\n",
              "      <td>northwest</td>\n",
              "      <td>21984.47061</td>\n",
              "    </tr>\n",
              "    <tr>\n",
              "      <th>4</th>\n",
              "      <td>32</td>\n",
              "      <td>male</td>\n",
              "      <td>28.880</td>\n",
              "      <td>0</td>\n",
              "      <td>no</td>\n",
              "      <td>northwest</td>\n",
              "      <td>3866.85520</td>\n",
              "    </tr>\n",
              "  </tbody>\n",
              "</table>\n",
              "</div>\n",
              "      <button class=\"colab-df-convert\" onclick=\"convertToInteractive('df-b23092c9-55a2-4ddc-b9cd-0441798faab9')\"\n",
              "              title=\"Convert this dataframe to an interactive table.\"\n",
              "              style=\"display:none;\">\n",
              "        \n",
              "  <svg xmlns=\"http://www.w3.org/2000/svg\" height=\"24px\"viewBox=\"0 0 24 24\"\n",
              "       width=\"24px\">\n",
              "    <path d=\"M0 0h24v24H0V0z\" fill=\"none\"/>\n",
              "    <path d=\"M18.56 5.44l.94 2.06.94-2.06 2.06-.94-2.06-.94-.94-2.06-.94 2.06-2.06.94zm-11 1L8.5 8.5l.94-2.06 2.06-.94-2.06-.94L8.5 2.5l-.94 2.06-2.06.94zm10 10l.94 2.06.94-2.06 2.06-.94-2.06-.94-.94-2.06-.94 2.06-2.06.94z\"/><path d=\"M17.41 7.96l-1.37-1.37c-.4-.4-.92-.59-1.43-.59-.52 0-1.04.2-1.43.59L10.3 9.45l-7.72 7.72c-.78.78-.78 2.05 0 2.83L4 21.41c.39.39.9.59 1.41.59.51 0 1.02-.2 1.41-.59l7.78-7.78 2.81-2.81c.8-.78.8-2.07 0-2.86zM5.41 20L4 18.59l7.72-7.72 1.47 1.35L5.41 20z\"/>\n",
              "  </svg>\n",
              "      </button>\n",
              "      \n",
              "  <style>\n",
              "    .colab-df-container {\n",
              "      display:flex;\n",
              "      flex-wrap:wrap;\n",
              "      gap: 12px;\n",
              "    }\n",
              "\n",
              "    .colab-df-convert {\n",
              "      background-color: #E8F0FE;\n",
              "      border: none;\n",
              "      border-radius: 50%;\n",
              "      cursor: pointer;\n",
              "      display: none;\n",
              "      fill: #1967D2;\n",
              "      height: 32px;\n",
              "      padding: 0 0 0 0;\n",
              "      width: 32px;\n",
              "    }\n",
              "\n",
              "    .colab-df-convert:hover {\n",
              "      background-color: #E2EBFA;\n",
              "      box-shadow: 0px 1px 2px rgba(60, 64, 67, 0.3), 0px 1px 3px 1px rgba(60, 64, 67, 0.15);\n",
              "      fill: #174EA6;\n",
              "    }\n",
              "\n",
              "    [theme=dark] .colab-df-convert {\n",
              "      background-color: #3B4455;\n",
              "      fill: #D2E3FC;\n",
              "    }\n",
              "\n",
              "    [theme=dark] .colab-df-convert:hover {\n",
              "      background-color: #434B5C;\n",
              "      box-shadow: 0px 1px 3px 1px rgba(0, 0, 0, 0.15);\n",
              "      filter: drop-shadow(0px 1px 2px rgba(0, 0, 0, 0.3));\n",
              "      fill: #FFFFFF;\n",
              "    }\n",
              "  </style>\n",
              "\n",
              "      <script>\n",
              "        const buttonEl =\n",
              "          document.querySelector('#df-b23092c9-55a2-4ddc-b9cd-0441798faab9 button.colab-df-convert');\n",
              "        buttonEl.style.display =\n",
              "          google.colab.kernel.accessAllowed ? 'block' : 'none';\n",
              "\n",
              "        async function convertToInteractive(key) {\n",
              "          const element = document.querySelector('#df-b23092c9-55a2-4ddc-b9cd-0441798faab9');\n",
              "          const dataTable =\n",
              "            await google.colab.kernel.invokeFunction('convertToInteractive',\n",
              "                                                     [key], {});\n",
              "          if (!dataTable) return;\n",
              "\n",
              "          const docLinkHtml = 'Like what you see? Visit the ' +\n",
              "            '<a target=\"_blank\" href=https://colab.research.google.com/notebooks/data_table.ipynb>data table notebook</a>'\n",
              "            + ' to learn more about interactive tables.';\n",
              "          element.innerHTML = '';\n",
              "          dataTable['output_type'] = 'display_data';\n",
              "          await google.colab.output.renderOutput(dataTable, element);\n",
              "          const docLink = document.createElement('div');\n",
              "          docLink.innerHTML = docLinkHtml;\n",
              "          element.appendChild(docLink);\n",
              "        }\n",
              "      </script>\n",
              "    </div>\n",
              "  </div>\n",
              "  "
            ]
          },
          "metadata": {},
          "execution_count": 172
        }
      ],
      "source": [
        "data = pd.read_csv('./insurance.csv')\n",
        "data.head()"
      ]
    },
    {
      "cell_type": "code",
      "execution_count": 173,
      "metadata": {
        "colab": {
          "base_uri": "https://localhost:8080/"
        },
        "id": "gSGBviOluvps",
        "outputId": "848d15b1-1ec6-4ed3-923d-71ccbe224192"
      },
      "outputs": [
        {
          "output_type": "stream",
          "name": "stdout",
          "text": [
            "<class 'pandas.core.frame.DataFrame'>\n",
            "RangeIndex: 1338 entries, 0 to 1337\n",
            "Data columns (total 7 columns):\n",
            " #   Column    Non-Null Count  Dtype  \n",
            "---  ------    --------------  -----  \n",
            " 0   age       1338 non-null   int64  \n",
            " 1   sex       1338 non-null   object \n",
            " 2   bmi       1338 non-null   float64\n",
            " 3   children  1338 non-null   int64  \n",
            " 4   smoker    1338 non-null   object \n",
            " 5   region    1338 non-null   object \n",
            " 6   charges   1338 non-null   float64\n",
            "dtypes: float64(2), int64(2), object(3)\n",
            "memory usage: 73.3+ KB\n"
          ]
        }
      ],
      "source": [
        "data.info()"
      ]
    },
    {
      "cell_type": "code",
      "source": [
        "data.isnull().sum()"
      ],
      "metadata": {
        "colab": {
          "base_uri": "https://localhost:8080/"
        },
        "id": "OYHHMwPN1Pvg",
        "outputId": "054a6489-be56-4a77-b6c1-c88c18ff888c"
      },
      "execution_count": 174,
      "outputs": [
        {
          "output_type": "execute_result",
          "data": {
            "text/plain": [
              "age         0\n",
              "sex         0\n",
              "bmi         0\n",
              "children    0\n",
              "smoker      0\n",
              "region      0\n",
              "charges     0\n",
              "dtype: int64"
            ]
          },
          "metadata": {},
          "execution_count": 174
        }
      ]
    },
    {
      "cell_type": "markdown",
      "metadata": {
        "id": "qdfkhk3_uvpt"
      },
      "source": [
        "### There are no missing values as such"
      ]
    },
    {
      "cell_type": "code",
      "execution_count": 175,
      "metadata": {
        "colab": {
          "base_uri": "https://localhost:8080/"
        },
        "id": "2n1Iri_tuvpu",
        "outputId": "d61ab83e-0355-4d12-f03e-a14971d9af43"
      },
      "outputs": [
        {
          "output_type": "execute_result",
          "data": {
            "text/plain": [
              "northeast    324\n",
              "southwest    325\n",
              "northwest    325\n",
              "southeast    364\n",
              "Name: region, dtype: int64"
            ]
          },
          "metadata": {},
          "execution_count": 175
        }
      ],
      "source": [
        "data['region'].value_counts().sort_values()"
      ]
    },
    {
      "cell_type": "code",
      "execution_count": 176,
      "metadata": {
        "colab": {
          "base_uri": "https://localhost:8080/"
        },
        "id": "Y2izwZp0uvpv",
        "outputId": "d34b363b-f015-45cf-9ddc-eb25059dcbd2"
      },
      "outputs": [
        {
          "output_type": "execute_result",
          "data": {
            "text/plain": [
              "5     18\n",
              "4     25\n",
              "3    157\n",
              "2    240\n",
              "1    324\n",
              "0    574\n",
              "Name: children, dtype: int64"
            ]
          },
          "metadata": {},
          "execution_count": 176
        }
      ],
      "source": [
        "data['children'].value_counts().sort_values()"
      ]
    },
    {
      "cell_type": "markdown",
      "metadata": {
        "id": "NSmz2aAauvpv"
      },
      "source": [
        "### Converting Categorical Features to Numerical"
      ]
    },
    {
      "cell_type": "code",
      "execution_count": 177,
      "metadata": {
        "id": "FDCtcUljuvpv"
      },
      "outputs": [],
      "source": [
        "clean_data = {'sex': {'male' : 0 , 'female' : 1} ,\n",
        "                 'smoker': {'no': 0 , 'yes' : 1},\n",
        "                   'region' : {'northwest':0, 'northeast':1,'southeast':2,'southwest':3}\n",
        "               }\n",
        "data_copy = data.copy()\n",
        "data_copy.replace(clean_data, inplace=True)"
      ]
    },
    {
      "cell_type": "code",
      "execution_count": 178,
      "metadata": {
        "colab": {
          "base_uri": "https://localhost:8080/",
          "height": 300
        },
        "id": "YF8RHgVXuvpw",
        "outputId": "04524d74-a10b-43a4-eafa-7ed63eeaa335"
      },
      "outputs": [
        {
          "output_type": "execute_result",
          "data": {
            "text/plain": [
              "               age          sex          bmi     children       smoker  \\\n",
              "count  1338.000000  1338.000000  1338.000000  1338.000000  1338.000000   \n",
              "mean     39.207025     0.494768    30.663397     1.094918     0.204783   \n",
              "std      14.049960     0.500160     6.098187     1.205493     0.403694   \n",
              "min      18.000000     0.000000    15.960000     0.000000     0.000000   \n",
              "25%      27.000000     0.000000    26.296250     0.000000     0.000000   \n",
              "50%      39.000000     0.000000    30.400000     1.000000     0.000000   \n",
              "75%      51.000000     1.000000    34.693750     2.000000     0.000000   \n",
              "max      64.000000     1.000000    53.130000     5.000000     1.000000   \n",
              "\n",
              "            region       charges  \n",
              "count  1338.000000   1338.000000  \n",
              "mean      1.514948  13270.422265  \n",
              "std       1.105572  12110.011237  \n",
              "min       0.000000   1121.873900  \n",
              "25%       1.000000   4740.287150  \n",
              "50%       2.000000   9382.033000  \n",
              "75%       2.000000  16639.912515  \n",
              "max       3.000000  63770.428010  "
            ],
            "text/html": [
              "\n",
              "  <div id=\"df-a06fc3cf-369b-49e0-b956-e658964ff88b\">\n",
              "    <div class=\"colab-df-container\">\n",
              "      <div>\n",
              "<style scoped>\n",
              "    .dataframe tbody tr th:only-of-type {\n",
              "        vertical-align: middle;\n",
              "    }\n",
              "\n",
              "    .dataframe tbody tr th {\n",
              "        vertical-align: top;\n",
              "    }\n",
              "\n",
              "    .dataframe thead th {\n",
              "        text-align: right;\n",
              "    }\n",
              "</style>\n",
              "<table border=\"1\" class=\"dataframe\">\n",
              "  <thead>\n",
              "    <tr style=\"text-align: right;\">\n",
              "      <th></th>\n",
              "      <th>age</th>\n",
              "      <th>sex</th>\n",
              "      <th>bmi</th>\n",
              "      <th>children</th>\n",
              "      <th>smoker</th>\n",
              "      <th>region</th>\n",
              "      <th>charges</th>\n",
              "    </tr>\n",
              "  </thead>\n",
              "  <tbody>\n",
              "    <tr>\n",
              "      <th>count</th>\n",
              "      <td>1338.000000</td>\n",
              "      <td>1338.000000</td>\n",
              "      <td>1338.000000</td>\n",
              "      <td>1338.000000</td>\n",
              "      <td>1338.000000</td>\n",
              "      <td>1338.000000</td>\n",
              "      <td>1338.000000</td>\n",
              "    </tr>\n",
              "    <tr>\n",
              "      <th>mean</th>\n",
              "      <td>39.207025</td>\n",
              "      <td>0.494768</td>\n",
              "      <td>30.663397</td>\n",
              "      <td>1.094918</td>\n",
              "      <td>0.204783</td>\n",
              "      <td>1.514948</td>\n",
              "      <td>13270.422265</td>\n",
              "    </tr>\n",
              "    <tr>\n",
              "      <th>std</th>\n",
              "      <td>14.049960</td>\n",
              "      <td>0.500160</td>\n",
              "      <td>6.098187</td>\n",
              "      <td>1.205493</td>\n",
              "      <td>0.403694</td>\n",
              "      <td>1.105572</td>\n",
              "      <td>12110.011237</td>\n",
              "    </tr>\n",
              "    <tr>\n",
              "      <th>min</th>\n",
              "      <td>18.000000</td>\n",
              "      <td>0.000000</td>\n",
              "      <td>15.960000</td>\n",
              "      <td>0.000000</td>\n",
              "      <td>0.000000</td>\n",
              "      <td>0.000000</td>\n",
              "      <td>1121.873900</td>\n",
              "    </tr>\n",
              "    <tr>\n",
              "      <th>25%</th>\n",
              "      <td>27.000000</td>\n",
              "      <td>0.000000</td>\n",
              "      <td>26.296250</td>\n",
              "      <td>0.000000</td>\n",
              "      <td>0.000000</td>\n",
              "      <td>1.000000</td>\n",
              "      <td>4740.287150</td>\n",
              "    </tr>\n",
              "    <tr>\n",
              "      <th>50%</th>\n",
              "      <td>39.000000</td>\n",
              "      <td>0.000000</td>\n",
              "      <td>30.400000</td>\n",
              "      <td>1.000000</td>\n",
              "      <td>0.000000</td>\n",
              "      <td>2.000000</td>\n",
              "      <td>9382.033000</td>\n",
              "    </tr>\n",
              "    <tr>\n",
              "      <th>75%</th>\n",
              "      <td>51.000000</td>\n",
              "      <td>1.000000</td>\n",
              "      <td>34.693750</td>\n",
              "      <td>2.000000</td>\n",
              "      <td>0.000000</td>\n",
              "      <td>2.000000</td>\n",
              "      <td>16639.912515</td>\n",
              "    </tr>\n",
              "    <tr>\n",
              "      <th>max</th>\n",
              "      <td>64.000000</td>\n",
              "      <td>1.000000</td>\n",
              "      <td>53.130000</td>\n",
              "      <td>5.000000</td>\n",
              "      <td>1.000000</td>\n",
              "      <td>3.000000</td>\n",
              "      <td>63770.428010</td>\n",
              "    </tr>\n",
              "  </tbody>\n",
              "</table>\n",
              "</div>\n",
              "      <button class=\"colab-df-convert\" onclick=\"convertToInteractive('df-a06fc3cf-369b-49e0-b956-e658964ff88b')\"\n",
              "              title=\"Convert this dataframe to an interactive table.\"\n",
              "              style=\"display:none;\">\n",
              "        \n",
              "  <svg xmlns=\"http://www.w3.org/2000/svg\" height=\"24px\"viewBox=\"0 0 24 24\"\n",
              "       width=\"24px\">\n",
              "    <path d=\"M0 0h24v24H0V0z\" fill=\"none\"/>\n",
              "    <path d=\"M18.56 5.44l.94 2.06.94-2.06 2.06-.94-2.06-.94-.94-2.06-.94 2.06-2.06.94zm-11 1L8.5 8.5l.94-2.06 2.06-.94-2.06-.94L8.5 2.5l-.94 2.06-2.06.94zm10 10l.94 2.06.94-2.06 2.06-.94-2.06-.94-.94-2.06-.94 2.06-2.06.94z\"/><path d=\"M17.41 7.96l-1.37-1.37c-.4-.4-.92-.59-1.43-.59-.52 0-1.04.2-1.43.59L10.3 9.45l-7.72 7.72c-.78.78-.78 2.05 0 2.83L4 21.41c.39.39.9.59 1.41.59.51 0 1.02-.2 1.41-.59l7.78-7.78 2.81-2.81c.8-.78.8-2.07 0-2.86zM5.41 20L4 18.59l7.72-7.72 1.47 1.35L5.41 20z\"/>\n",
              "  </svg>\n",
              "      </button>\n",
              "      \n",
              "  <style>\n",
              "    .colab-df-container {\n",
              "      display:flex;\n",
              "      flex-wrap:wrap;\n",
              "      gap: 12px;\n",
              "    }\n",
              "\n",
              "    .colab-df-convert {\n",
              "      background-color: #E8F0FE;\n",
              "      border: none;\n",
              "      border-radius: 50%;\n",
              "      cursor: pointer;\n",
              "      display: none;\n",
              "      fill: #1967D2;\n",
              "      height: 32px;\n",
              "      padding: 0 0 0 0;\n",
              "      width: 32px;\n",
              "    }\n",
              "\n",
              "    .colab-df-convert:hover {\n",
              "      background-color: #E2EBFA;\n",
              "      box-shadow: 0px 1px 2px rgba(60, 64, 67, 0.3), 0px 1px 3px 1px rgba(60, 64, 67, 0.15);\n",
              "      fill: #174EA6;\n",
              "    }\n",
              "\n",
              "    [theme=dark] .colab-df-convert {\n",
              "      background-color: #3B4455;\n",
              "      fill: #D2E3FC;\n",
              "    }\n",
              "\n",
              "    [theme=dark] .colab-df-convert:hover {\n",
              "      background-color: #434B5C;\n",
              "      box-shadow: 0px 1px 3px 1px rgba(0, 0, 0, 0.15);\n",
              "      filter: drop-shadow(0px 1px 2px rgba(0, 0, 0, 0.3));\n",
              "      fill: #FFFFFF;\n",
              "    }\n",
              "  </style>\n",
              "\n",
              "      <script>\n",
              "        const buttonEl =\n",
              "          document.querySelector('#df-a06fc3cf-369b-49e0-b956-e658964ff88b button.colab-df-convert');\n",
              "        buttonEl.style.display =\n",
              "          google.colab.kernel.accessAllowed ? 'block' : 'none';\n",
              "\n",
              "        async function convertToInteractive(key) {\n",
              "          const element = document.querySelector('#df-a06fc3cf-369b-49e0-b956-e658964ff88b');\n",
              "          const dataTable =\n",
              "            await google.colab.kernel.invokeFunction('convertToInteractive',\n",
              "                                                     [key], {});\n",
              "          if (!dataTable) return;\n",
              "\n",
              "          const docLinkHtml = 'Like what you see? Visit the ' +\n",
              "            '<a target=\"_blank\" href=https://colab.research.google.com/notebooks/data_table.ipynb>data table notebook</a>'\n",
              "            + ' to learn more about interactive tables.';\n",
              "          element.innerHTML = '';\n",
              "          dataTable['output_type'] = 'display_data';\n",
              "          await google.colab.output.renderOutput(dataTable, element);\n",
              "          const docLink = document.createElement('div');\n",
              "          docLink.innerHTML = docLinkHtml;\n",
              "          element.appendChild(docLink);\n",
              "        }\n",
              "      </script>\n",
              "    </div>\n",
              "  </div>\n",
              "  "
            ]
          },
          "metadata": {},
          "execution_count": 178
        }
      ],
      "source": [
        "data_copy.describe()"
      ]
    },
    {
      "cell_type": "code",
      "execution_count": 179,
      "metadata": {
        "colab": {
          "base_uri": "https://localhost:8080/",
          "height": 499
        },
        "id": "cz5KbpAhuvpw",
        "outputId": "ad297963-e1bd-4420-8bfb-a81bf35dde46"
      },
      "outputs": [
        {
          "output_type": "display_data",
          "data": {
            "text/plain": [
              "<Figure size 720x576 with 2 Axes>"
            ],
            "image/png": "[encoded data removed]"
          },
          "metadata": {
            "needs_background": "light"
          }
        }
      ],
      "source": [
        "corr = data_copy.corr()\n",
        "fig, ax = plt.subplots(figsize=(10,8))\n",
        "sns.heatmap(corr,cmap='BuPu',annot=True,fmt=\".2f\",ax=ax)\n",
        "plt.title(\"Dependencies of Medical Charges\")\n",
        "\n",
        "plt.show()"
      ]
    },
    {
      "cell_type": "markdown",
      "metadata": {
        "id": "vrUhmIwGuvpx"
      },
      "source": [
        "### Smoker, BMI and Age are most important factor that determnines - Charges\n",
        "Also we see that Sex, Children and Region do not affect the Charges.\n",
        "We might drop these 3 columns as they have less correlation"
      ]
    },
    {
      "cell_type": "code",
      "execution_count": 180,
      "metadata": {
        "colab": {
          "base_uri": "https://localhost:8080/"
        },
        "id": "SBq5LpkGuvpx",
        "outputId": "e66c4f00-c90e-4f54-9bc7-e6e58bf745cb"
      },
      "outputs": [
        {
          "output_type": "stream",
          "name": "stdout",
          "text": [
            "female    662\n",
            "male      676\n",
            "Name: sex, dtype: int64\n",
            "yes     274\n",
            "no     1064\n",
            "Name: smoker, dtype: int64\n",
            "northeast    324\n",
            "southwest    325\n",
            "northwest    325\n",
            "southeast    364\n",
            "Name: region, dtype: int64\n"
          ]
        }
      ],
      "source": [
        "print(data['sex'].value_counts().sort_values()) \n",
        "print(data['smoker'].value_counts().sort_values())\n",
        "print(data['region'].value_counts().sort_values())"
      ]
    },
    {
      "cell_type": "markdown",
      "metadata": {
        "id": "TR6pR_Smuvpy"
      },
      "source": [
        "### Now we are confirmed that there are no other values in above pre-preocessed column, We can proceed with EDA"
      ]
    },
    {
      "cell_type": "code",
      "execution_count": 181,
      "metadata": {
        "colab": {
          "base_uri": "https://localhost:8080/",
          "height": 567
        },
        "id": "hW4fDKDJuvpz",
        "outputId": "e8d19503-9a18-4d62-aecb-ef3bff72d912"
      },
      "outputs": [
        {
          "output_type": "display_data",
          "data": {
            "text/plain": [
              "<Figure size 864x648 with 1 Axes>"
            ],
            "image/png": "[encoded data removed]"
          },
          "metadata": {
            "needs_background": "light"
          }
        }
      ],
      "source": [
        "plt.figure(figsize=(12,9))\n",
        "plt.title('Age vs Charge')\n",
        "sns.barplot(x='age',y='charges',data=data_copy,palette='husl')\n",
        "plt.show()"
      ]
    },
    {
      "cell_type": "code",
      "execution_count": 182,
      "metadata": {
        "colab": {
          "base_uri": "https://localhost:8080/",
          "height": 475
        },
        "id": "uYvhePRwuvpz",
        "outputId": "e9229f1c-952d-42db-e261-8b0c0f0a66ba"
      },
      "outputs": [
        {
          "output_type": "execute_result",
          "data": {
            "text/plain": [
              "<matplotlib.axes._subplots.AxesSubplot at 0x7f8b28dea390>"
            ]
          },
          "metadata": {},
          "execution_count": 182
        },
        {
          "output_type": "display_data",
          "data": {
            "text/plain": [
              "<Figure size 720x504 with 1 Axes>"
            ],
            "image/png": "[encoded data removed]"
          },
          "metadata": {
            "needs_background": "light"
          }
        }
      ],
      "source": [
        "plt.figure(figsize=(10,7))\n",
        "plt.title('Region vs Charge')\n",
        "sns.barplot(x='region',y='charges',data=data_copy,palette='Set3')"
      ]
    },
    {
      "cell_type": "code",
      "execution_count": 183,
      "metadata": {
        "colab": {
          "base_uri": "https://localhost:8080/",
          "height": 367
        },
        "id": "IAijcyiQuvp0",
        "outputId": "a62116bf-2ce6-4605-f9fa-96209123e5d6"
      },
      "outputs": [
        {
          "output_type": "execute_result",
          "data": {
            "text/plain": [
              "Text(0.5, 1.0, 'BMI VS Charge')"
            ]
          },
          "metadata": {},
          "execution_count": 183
        },
        {
          "output_type": "display_data",
          "data": {
            "text/plain": [
              "<Figure size 504x360 with 1 Axes>"
            ],
            "image/png": "[encoded data removed]"
          },
          "metadata": {
            "needs_background": "light"
          }
        }
      ],
      "source": [
        "plt.figure(figsize=(7,5))\n",
        "sns.scatterplot(x='bmi',y='charges',hue='sex',data=data_copy,palette='Reds')\n",
        "plt.title('BMI VS Charge')"
      ]
    },
    {
      "cell_type": "code",
      "execution_count": 184,
      "metadata": {
        "colab": {
          "base_uri": "https://localhost:8080/",
          "height": 475
        },
        "id": "rkpQNzFpuvp0",
        "outputId": "cb7c44b7-8f53-4e31-e25d-dbf9d968b944"
      },
      "outputs": [
        {
          "output_type": "execute_result",
          "data": {
            "text/plain": [
              "<matplotlib.axes._subplots.AxesSubplot at 0x7f8b25aed850>"
            ]
          },
          "metadata": {},
          "execution_count": 184
        },
        {
          "output_type": "display_data",
          "data": {
            "text/plain": [
              "<Figure size 720x504 with 1 Axes>"
            ],
            "image/png": "[encoded data removed]"
          },
          "metadata": {
            "needs_background": "light"
          }
        }
      ],
      "source": [
        "plt.figure(figsize=(10,7))\n",
        "plt.title('Smoker vs Charge')\n",
        "sns.barplot(x='smoker',y='charges',data=data_copy,palette='Blues',hue='sex')"
      ]
    },
    {
      "cell_type": "code",
      "execution_count": 185,
      "metadata": {
        "colab": {
          "base_uri": "https://localhost:8080/",
          "height": 475
        },
        "id": "63lyJUXGuvp1",
        "outputId": "4776bb2e-4f78-49f4-e5ae-d6c9d2de9b14"
      },
      "outputs": [
        {
          "output_type": "execute_result",
          "data": {
            "text/plain": [
              "<matplotlib.axes._subplots.AxesSubplot at 0x7f8b259f33d0>"
            ]
          },
          "metadata": {},
          "execution_count": 185
        },
        {
          "output_type": "display_data",
          "data": {
            "text/plain": [
              "<Figure size 720x504 with 1 Axes>"
            ],
            "image/png": "[encoded data removed]"
          },
          "metadata": {
            "needs_background": "light"
          }
        }
      ],
      "source": [
        "plt.figure(figsize=(10,7))\n",
        "plt.title('Sex vs Charges')\n",
        "sns.barplot(x='sex',y='charges',data=data_copy,palette='Set1')"
      ]
    },
    {
      "cell_type": "code",
      "execution_count": 186,
      "metadata": {
        "colab": {
          "base_uri": "https://localhost:8080/",
          "height": 475
        },
        "id": "w-27OH_wuvp2",
        "outputId": "4e121b14-09cc-46f4-838d-17d558114d54"
      },
      "outputs": [
        {
          "output_type": "execute_result",
          "data": {
            "text/plain": [
              "Text(0, 0.5, 'Count')"
            ]
          },
          "metadata": {},
          "execution_count": 186
        },
        {
          "output_type": "display_data",
          "data": {
            "text/plain": [
              "<Figure size 720x504 with 1 Axes>"
            ],
            "image/png": "[encoded data removed]"
          },
          "metadata": {
            "needs_background": "light"
          }
        }
      ],
      "source": [
        "plt.figure(figsize=(10,7))\n",
        "sns.distplot(data_copy['age'])\n",
        "plt.title('Plot for Age')\n",
        "plt.xlabel('Age')\n",
        "plt.ylabel('Count')"
      ]
    },
    {
      "cell_type": "code",
      "execution_count": 187,
      "metadata": {
        "colab": {
          "base_uri": "https://localhost:8080/",
          "height": 475
        },
        "id": "Yhrs_Gyquvp3",
        "outputId": "6fefc11b-ec6b-418a-f8f3-6bdeeba4b686"
      },
      "outputs": [
        {
          "output_type": "execute_result",
          "data": {
            "text/plain": [
              "Text(0, 0.5, 'Count')"
            ]
          },
          "metadata": {},
          "execution_count": 187
        },
        {
          "output_type": "display_data",
          "data": {
            "text/plain": [
              "<Figure size 720x504 with 1 Axes>"
            ],
            "image/png": "[encoded data removed]"
          },
          "metadata": {
            "needs_background": "light"
          }
        }
      ],
      "source": [
        "plt.figure(figsize=(10,7))\n",
        "sns.distplot(data_copy['bmi'])\n",
        "plt.title('Plot for BMI')\n",
        "plt.xlabel('BMI')\n",
        "plt.ylabel('Count')"
      ]
    },
    {
      "cell_type": "code",
      "execution_count": 188,
      "metadata": {
        "colab": {
          "base_uri": "https://localhost:8080/",
          "height": 475
        },
        "id": "grX6IfiRuvp3",
        "outputId": "b4d748d7-80e1-4e42-ab98-aae3c6f63ca9"
      },
      "outputs": [
        {
          "output_type": "execute_result",
          "data": {
            "text/plain": [
              "Text(0, 0.5, 'Count')"
            ]
          },
          "metadata": {},
          "execution_count": 188
        },
        {
          "output_type": "display_data",
          "data": {
            "text/plain": [
              "<Figure size 720x504 with 1 Axes>"
            ],
            "image/png": "[encoded data removed]"
          },
          "metadata": {
            "needs_background": "light"
          }
        }
      ],
      "source": [
        "plt.figure(figsize=(10,7))\n",
        "sns.distplot(data_copy['charges'])\n",
        "plt.title('Plot for charges')\n",
        "plt.xlabel('charges')\n",
        "plt.ylabel('Count')"
      ]
    },
    {
      "cell_type": "markdown",
      "metadata": {
        "id": "98PjhSm0uvp4"
      },
      "source": [
        "### There might be few outliers in Charges but then we cannot say that the value is an outlier as there might be cases in which Charge for medical was very les actually!"
      ]
    },
    {
      "cell_type": "markdown",
      "metadata": {
        "id": "qArguo6zuvp4"
      },
      "source": [
        "### Prepating data - We can scale BMI and Charges Column before proceeding with Prediction"
      ]
    },
    {
      "cell_type": "code",
      "execution_count": 189,
      "metadata": {
        "colab": {
          "base_uri": "https://localhost:8080/",
          "height": 206
        },
        "id": "JExAl7C6uvp4",
        "outputId": "a7a47958-b04c-4233-ee57-81c5cb970d57"
      },
      "outputs": [
        {
          "output_type": "execute_result",
          "data": {
            "text/plain": [
              "        age  sex       bmi  children  smoker  region   charges\n",
              "0 -1.438764    1 -0.453320         0       1       3  0.298584\n",
              "1 -1.509965    0  0.509621         1       0       2 -0.953689\n",
              "2 -0.797954    0  0.383307         3       0       2 -0.728675\n",
              "3 -0.441948    0 -1.305531         0       0       0  0.719843\n",
              "4 -0.513149    0 -0.292556         0       0       0 -0.776802"
            ],
            "text/html": [
              "\n",
              "  <div id=\"df-49396dcb-66bb-43da-8877-87399f0fd911\">\n",
              "    <div class=\"colab-df-container\">\n",
              "      <div>\n",
              "<style scoped>\n",
              "    .dataframe tbody tr th:only-of-type {\n",
              "        vertical-align: middle;\n",
              "    }\n",
              "\n",
              "    .dataframe tbody tr th {\n",
              "        vertical-align: top;\n",
              "    }\n",
              "\n",
              "    .dataframe thead th {\n",
              "        text-align: right;\n",
              "    }\n",
              "</style>\n",
              "<table border=\"1\" class=\"dataframe\">\n",
              "  <thead>\n",
              "    <tr style=\"text-align: right;\">\n",
              "      <th></th>\n",
              "      <th>age</th>\n",
              "      <th>sex</th>\n",
              "      <th>bmi</th>\n",
              "      <th>children</th>\n",
              "      <th>smoker</th>\n",
              "      <th>region</th>\n",
              "      <th>charges</th>\n",
              "    </tr>\n",
              "  </thead>\n",
              "  <tbody>\n",
              "    <tr>\n",
              "      <th>0</th>\n",
              "      <td>-1.438764</td>\n",
              "      <td>1</td>\n",
              "      <td>-0.453320</td>\n",
              "      <td>0</td>\n",
              "      <td>1</td>\n",
              "      <td>3</td>\n",
              "      <td>0.298584</td>\n",
              "    </tr>\n",
              "    <tr>\n",
              "      <th>1</th>\n",
              "      <td>-1.509965</td>\n",
              "      <td>0</td>\n",
              "      <td>0.509621</td>\n",
              "      <td>1</td>\n",
              "      <td>0</td>\n",
              "      <td>2</td>\n",
              "      <td>-0.953689</td>\n",
              "    </tr>\n",
              "    <tr>\n",
              "      <th>2</th>\n",
              "      <td>-0.797954</td>\n",
              "      <td>0</td>\n",
              "      <td>0.383307</td>\n",
              "      <td>3</td>\n",
              "      <td>0</td>\n",
              "      <td>2</td>\n",
              "      <td>-0.728675</td>\n",
              "    </tr>\n",
              "    <tr>\n",
              "      <th>3</th>\n",
              "      <td>-0.441948</td>\n",
              "      <td>0</td>\n",
              "      <td>-1.305531</td>\n",
              "      <td>0</td>\n",
              "      <td>0</td>\n",
              "      <td>0</td>\n",
              "      <td>0.719843</td>\n",
              "    </tr>\n",
              "    <tr>\n",
              "      <th>4</th>\n",
              "      <td>-0.513149</td>\n",
              "      <td>0</td>\n",
              "      <td>-0.292556</td>\n",
              "      <td>0</td>\n",
              "      <td>0</td>\n",
              "      <td>0</td>\n",
              "      <td>-0.776802</td>\n",
              "    </tr>\n",
              "  </tbody>\n",
              "</table>\n",
              "</div>\n",
              "      <button class=\"colab-df-convert\" onclick=\"convertToInteractive('df-49396dcb-66bb-43da-8877-87399f0fd911')\"\n",
              "              title=\"Convert this dataframe to an interactive table.\"\n",
              "              style=\"display:none;\">\n",
              "        \n",
              "  <svg xmlns=\"http://www.w3.org/2000/svg\" height=\"24px\"viewBox=\"0 0 24 24\"\n",
              "       width=\"24px\">\n",
              "    <path d=\"M0 0h24v24H0V0z\" fill=\"none\"/>\n",
              "    <path d=\"M18.56 5.44l.94 2.06.94-2.06 2.06-.94-2.06-.94-.94-2.06-.94 2.06-2.06.94zm-11 1L8.5 8.5l.94-2.06 2.06-.94-2.06-.94L8.5 2.5l-.94 2.06-2.06.94zm10 10l.94 2.06.94-2.06 2.06-.94-2.06-.94-.94-2.06-.94 2.06-2.06.94z\"/><path d=\"M17.41 7.96l-1.37-1.37c-.4-.4-.92-.59-1.43-.59-.52 0-1.04.2-1.43.59L10.3 9.45l-7.72 7.72c-.78.78-.78 2.05 0 2.83L4 21.41c.39.39.9.59 1.41.59.51 0 1.02-.2 1.41-.59l7.78-7.78 2.81-2.81c.8-.78.8-2.07 0-2.86zM5.41 20L4 18.59l7.72-7.72 1.47 1.35L5.41 20z\"/>\n",
              "  </svg>\n",
              "      </button>\n",
              "      \n",
              "  <style>\n",
              "    .colab-df-container {\n",
              "      display:flex;\n",
              "      flex-wrap:wrap;\n",
              "      gap: 12px;\n",
              "    }\n",
              "\n",
              "    .colab-df-convert {\n",
              "      background-color: #E8F0FE;\n",
              "      border: none;\n",
              "      border-radius: 50%;\n",
              "      cursor: pointer;\n",
              "      display: none;\n",
              "      fill: #1967D2;\n",
              "      height: 32px;\n",
              "      padding: 0 0 0 0;\n",
              "      width: 32px;\n",
              "    }\n",
              "\n",
              "    .colab-df-convert:hover {\n",
              "      background-color: #E2EBFA;\n",
              "      box-shadow: 0px 1px 2px rgba(60, 64, 67, 0.3), 0px 1px 3px 1px rgba(60, 64, 67, 0.15);\n",
              "      fill: #174EA6;\n",
              "    }\n",
              "\n",
              "    [theme=dark] .colab-df-convert {\n",
              "      background-color: #3B4455;\n",
              "      fill: #D2E3FC;\n",
              "    }\n",
              "\n",
              "    [theme=dark] .colab-df-convert:hover {\n",
              "      background-color: #434B5C;\n",
              "      box-shadow: 0px 1px 3px 1px rgba(0, 0, 0, 0.15);\n",
              "      filter: drop-shadow(0px 1px 2px rgba(0, 0, 0, 0.3));\n",
              "      fill: #FFFFFF;\n",
              "    }\n",
              "  </style>\n",
              "\n",
              "      <script>\n",
              "        const buttonEl =\n",
              "          document.querySelector('#df-49396dcb-66bb-43da-8877-87399f0fd911 button.colab-df-convert');\n",
              "        buttonEl.style.display =\n",
              "          google.colab.kernel.accessAllowed ? 'block' : 'none';\n",
              "\n",
              "        async function convertToInteractive(key) {\n",
              "          const element = document.querySelector('#df-49396dcb-66bb-43da-8877-87399f0fd911');\n",
              "          const dataTable =\n",
              "            await google.colab.kernel.invokeFunction('convertToInteractive',\n",
              "                                                     [key], {});\n",
              "          if (!dataTable) return;\n",
              "\n",
              "          const docLinkHtml = 'Like what you see? Visit the ' +\n",
              "            '<a target=\"_blank\" href=https://colab.research.google.com/notebooks/data_table.ipynb>data table notebook</a>'\n",
              "            + ' to learn more about interactive tables.';\n",
              "          element.innerHTML = '';\n",
              "          dataTable['output_type'] = 'display_data';\n",
              "          await google.colab.output.renderOutput(dataTable, element);\n",
              "          const docLink = document.createElement('div');\n",
              "          docLink.innerHTML = docLinkHtml;\n",
              "          element.appendChild(docLink);\n",
              "        }\n",
              "      </script>\n",
              "    </div>\n",
              "  </div>\n",
              "  "
            ]
          },
          "metadata": {},
          "execution_count": 189
        }
      ],
      "source": [
        "from sklearn.preprocessing import StandardScaler\n",
        "data_pre = data_copy.copy()\n",
        "\n",
        "tempBmi = data_pre.bmi\n",
        "tempBmi = tempBmi.values.reshape(-1,1)\n",
        "data_pre['bmi'] = StandardScaler().fit_transform(tempBmi)\n",
        "\n",
        "tempAge = data_pre.age\n",
        "tempAge = tempAge.values.reshape(-1,1)\n",
        "data_pre['age'] = StandardScaler().fit_transform(tempAge)\n",
        "\n",
        "tempCharges = data_pre.charges\n",
        "tempCharges = tempCharges.values.reshape(-1,1)\n",
        "data_pre['charges'] = StandardScaler().fit_transform(tempCharges)\n",
        "\n",
        "data_pre.head()"
      ]
    },
    {
      "cell_type": "markdown",
      "source": [
        "Normal Equation"
      ],
      "metadata": {
        "id": "jsV85J7F2_mw"
      }
    },
    {
      "cell_type": "code",
      "source": [
        "D2 = pd.DataFrame(data_pre, columns=['age','sex','bmi','children','smoker','region','charges'])\n",
        "D2.insert(2,\"smoker_age\",D2['smoker']*D2['age'])\n",
        "D2.insert(3,\"smoker^2\",D2['smoker']**2)\n",
        "D2.insert(4,\"age^2\",D2['age']**2)\n",
        "D2.drop(columns=['sex','bmi','children','region'],axis=1)\n",
        "D2.head().columns"
      ],
      "metadata": {
        "colab": {
          "base_uri": "https://localhost:8080/"
        },
        "id": "dUH1_Lmd3A-P",
        "outputId": "e2c0be49-0544-4770-c9c5-ce6093606f57"
      },
      "execution_count": 190,
      "outputs": [
        {
          "output_type": "execute_result",
          "data": {
            "text/plain": [
              "Index(['age', 'sex', 'smoker_age', 'smoker^2', 'age^2', 'bmi', 'children',\n",
              "       'smoker', 'region', 'charges'],\n",
              "      dtype='object')"
            ]
          },
          "metadata": {},
          "execution_count": 190
        }
      ]
    },
    {
      "cell_type": "code",
      "source": [
        "test_sizeD2 = 250\n",
        "test_D2 = D2.iloc[-test_sizeD2:]\n",
        "train_D2 = D2.iloc[:-test_sizeD2]\n",
        "train_data = np.asarray(train_D2)\n",
        "test_data = np.asarray(test_D2)\n",
        "X = train_data[:,:-1] \n",
        "r = train_data[:,-1:] \n",
        "test_X = test_data[:,:-1]\n",
        "test_r = test_data[:,-1:]\n",
        "ones = np.ones((len(X),1))\n",
        "D2mat = np.hstack((ones,X))\n",
        "ones = np.ones((len(test_X),1))\n",
        "test_D2mat = np.hstack((ones,test_X))"
      ],
      "metadata": {
        "id": "KIYkV_gu3Cqg"
      },
      "execution_count": 191,
      "outputs": []
    },
    {
      "cell_type": "code",
      "source": [
        "class LR_Norm_Eqn:\n",
        "  def __init__(self,m):\n",
        "    self.weights = np.zeros([m,1])\n",
        "  def predict(self, D, R): \n",
        "    temp = np.dot(D, self.weights)\n",
        "    return temp\n",
        "  def measure(self, predicted, actual): \n",
        "    temp = predicted- actual\n",
        "    m = len(predicted) \n",
        "    return (np.sum(np.power(temp, 2))) / (m)\n",
        "  def fit(self,D,R):\n",
        "    D_transpose = np.transpose(D)\n",
        "    D_trans_dot_D_Inv = np.linalg.inv(D_transpose.dot(D))\n",
        "    D_trans_R = D_transpose.dot(R)\n",
        "    self.weights = D_trans_dot_D_Inv.dot(D_trans_R)\n",
        "    return self.weights"
      ],
      "metadata": {
        "id": "LKXJbpqi3Ctr"
      },
      "execution_count": 192,
      "outputs": []
    },
    {
      "cell_type": "code",
      "source": [
        "length = D2mat.shape[1]\n",
        "lin = LR_Norm_Eqn(length)\n"
      ],
      "metadata": {
        "id": "xgexnVS53Cwx"
      },
      "execution_count": 193,
      "outputs": []
    },
    {
      "cell_type": "code",
      "source": [
        "predicted = lin.predict(D2mat,r)\n",
        "test_predicted = lin.predict(test_D2,test_r)\n",
        "print(\"Error with train data: \",lin.measure(predicted,r))\n",
        "print(\"Error with test data: \",lin.measure(test_predicted,test_r))"
      ],
      "metadata": {
        "colab": {
          "base_uri": "https://localhost:8080/"
        },
        "id": "whckhEH93Cze",
        "outputId": "a38d6288-180f-4321-b3c5-1bc70e9821e2"
      },
      "execution_count": 194,
      "outputs": [
        {
          "output_type": "stream",
          "name": "stdout",
          "text": [
            "Error with train data:  0.982172236945884\n",
            "Error with test data:  1.0775864248115123\n"
          ]
        }
      ]
    },
    {
      "cell_type": "markdown",
      "source": [
        "Degree 3"
      ],
      "metadata": {
        "id": "Xmjq0ju57GQ8"
      }
    },
    {
      "cell_type": "code",
      "source": [
        "D3 = data_pre.copy()\n",
        "D3.insert(2,\"smoker_age\",D3['smoker']*D3['age'])\n",
        "D3.insert(3,\"smoker^2\",D3['smoker']**2)\n",
        "D3.insert(4,\"age^2\",D3['age']**2)\n",
        "D3.insert(5,\"smoker^2_age\",D3['smoker^2']*D3['age'])\n",
        "D3.insert(6,\"smoker_age^2\",D3['smoker']*D3['age^2'])\n",
        "D3.insert(7,\"smoker^2_age^2\",D3['smoker^2']*D3['age^2'])\n",
        "D3.insert(8,\"smoker^3\",D3['smoker']**3)\n",
        "D3.insert(9,\"age^3\",D3['age']**3)\n",
        "D3.head().columns"
      ],
      "metadata": {
        "colab": {
          "base_uri": "https://localhost:8080/"
        },
        "id": "iTRLSg7J7HR6",
        "outputId": "6d6be622-0b3c-4bf8-e4cf-4c89afc4666b"
      },
      "execution_count": 195,
      "outputs": [
        {
          "output_type": "execute_result",
          "data": {
            "text/plain": [
              "Index(['age', 'sex', 'smoker_age', 'smoker^2', 'age^2', 'smoker^2_age',\n",
              "       'smoker_age^2', 'smoker^2_age^2', 'smoker^3', 'age^3', 'bmi',\n",
              "       'children', 'smoker', 'region', 'charges'],\n",
              "      dtype='object')"
            ]
          },
          "metadata": {},
          "execution_count": 195
        }
      ]
    },
    {
      "cell_type": "code",
      "source": [
        "test_size = 200\n",
        "test3 = D3.iloc[-test_size:]\n",
        "train3 = D3.iloc[:-test_size]\n",
        "train_data3 = np.asarray(train3)\n",
        "test_data3 = np.asarray(test3)\n",
        "X3 = train_data3[:,:-1] \n",
        "r3 = train_data3[:,-1:] \n",
        "test_X3 = test_data3[:,:-1]\n",
        "test_r3 = test_data3[:,-1:]\n",
        "ones3 = np.ones((len(X3),1))\n",
        "Dmat3 = np.hstack((ones3,X3))\n",
        "ones3 = np.ones((len(test_X3),1))\n",
        "test_Dmat3 = np.hstack((ones3,test_X3))"
      ],
      "metadata": {
        "id": "4Cec_ehm753O"
      },
      "execution_count": 196,
      "outputs": []
    },
    {
      "cell_type": "code",
      "source": [
        "length3 = Dmat3.shape[1]\n",
        "lin = LR_Norm_Eqn(length3)\n"
      ],
      "metadata": {
        "id": "2MRYFTVb7_j_"
      },
      "execution_count": 197,
      "outputs": []
    },
    {
      "cell_type": "code",
      "source": [
        "predicted3 = lin.predict(Dmat3,r3)\n",
        "test_predicted3= lin.predict(test_Dmat3,test_r3)\n",
        "print(\"Error with train data: \",lin.measure(predicted3,r3))\n",
        "print(\"Error eith test data: \",lin.measure(test_predicted3,test_r3))"
      ],
      "metadata": {
        "colab": {
          "base_uri": "https://localhost:8080/"
        },
        "id": "WJkc_uVV8TWJ",
        "outputId": "e51d0945-6d6d-444b-cd33-476210b95932"
      },
      "execution_count": 198,
      "outputs": [
        {
          "output_type": "stream",
          "name": "stdout",
          "text": [
            "Error with train data:  0.9891506087244979\n",
            "Error eith test data:  1.0617330363576059\n"
          ]
        }
      ]
    },
    {
      "cell_type": "markdown",
      "metadata": {
        "id": "wqQu26MPuvp5"
      },
      "source": [
        "## Importing Libraries"
      ]
    },
    {
      "cell_type": "code",
      "execution_count": 199,
      "metadata": {
        "id": "pbgTZn0kuvp5"
      },
      "outputs": [],
      "source": [
        "from sklearn.linear_model import LinearRegression\n",
        "from sklearn.tree import DecisionTreeRegressor\n",
        "from sklearn.svm import SVR\n",
        "import xgboost as xgb\n",
        "\n",
        "from sklearn.metrics import r2_score, mean_squared_error, accuracy_score, confusion_matrix\n",
        "from sklearn.model_selection import RandomizedSearchCV, GridSearchCV"
      ]
    },
    {
      "cell_type": "markdown",
      "metadata": {
        "id": "A1z1fa0Suvp6"
      },
      "source": [
        "## Linear Regression"
      ]
    },
    {
      "cell_type": "code",
      "execution_count": 200,
      "metadata": {
        "colab": {
          "base_uri": "https://localhost:8080/"
        },
        "id": "97m-E_hFuvp5",
        "outputId": "6346efcd-6181-4bff-ee85-4adc3153e140"
      },
      "outputs": [
        {
          "output_type": "stream",
          "name": "stdout",
          "text": [
            "Size of X_train :  (1070, 6)\n",
            "Size of y_train :  (1070, 1)\n",
            "Size of X_test :  (268, 6)\n",
            "Size of Y_test :  (268, 1)\n"
          ]
        }
      ],
      "source": [
        "X = data_pre.drop('charges',axis=1).values\n",
        "y = data_pre['charges'].values.reshape(-1,1)\n",
        "\n",
        "from sklearn.model_selection import train_test_split\n",
        "X_train, X_test, y_train, y_test = train_test_split(X,y,test_size=0.2, random_state=42)\n",
        "\n",
        "print('Size of X_train : ', X_train.shape)\n",
        "print('Size of y_train : ', y_train.shape)\n",
        "print('Size of X_test : ', X_test.shape)\n",
        "print('Size of Y_test : ', y_test.shape)"
      ]
    },
    {
      "cell_type": "code",
      "execution_count": 201,
      "metadata": {
        "colab": {
          "base_uri": "https://localhost:8080/"
        },
        "id": "dFxfA03zuvp6",
        "outputId": "3c27d02e-0cae-4b3a-d99c-2b1f43d8125d"
      },
      "outputs": [
        {
          "output_type": "stream",
          "name": "stdout",
          "text": [
            "CPU times: user 1.49 ms, sys: 40 µs, total: 1.53 ms\n",
            "Wall time: 1.44 ms\n"
          ]
        }
      ],
      "source": [
        "%%time\n",
        "linear_reg = LinearRegression()\n",
        "linear_reg.fit(X_train, y_train)"
      ]
    },
    {
      "cell_type": "code",
      "execution_count": 202,
      "metadata": {
        "colab": {
          "base_uri": "https://localhost:8080/"
        },
        "id": "_2hbOQfsuvp6",
        "outputId": "36efe884-a98b-433c-c402-d3564be87f1a"
      },
      "outputs": [
        {
          "output_type": "stream",
          "name": "stdout",
          "text": [
            "R2_score (train) : 0.741\n",
            "R2_score (test) : 0.783\n",
            "RMSE : 0.480\n"
          ]
        }
      ],
      "source": [
        "\n",
        "\n",
        "y_pred_linear_reg_train = linear_reg.predict(X_train)\n",
        "r2_score_linear_reg_train = r2_score(y_train, y_pred_linear_reg_train)\n",
        "\n",
        "y_pred_linear_reg_test = linear_reg.predict(X_test)\n",
        "r2_score_linear_reg_test = r2_score(y_test, y_pred_linear_reg_test)\n",
        "\n",
        "rmse_linear = (np.sqrt(mean_squared_error(y_test, y_pred_linear_reg_test)))\n",
        "\n",
        "\n",
        "print('R2_score (train) : {0:.3f}'.format(r2_score_linear_reg_train))\n",
        "print('R2_score (test) : {0:.3f}'.format(r2_score_linear_reg_test))\n",
        "print('RMSE : {0:.3f}'.format(rmse_linear))"
      ]
    },
    {
      "cell_type": "markdown",
      "source": [
        "## Random Forest"
      ],
      "metadata": {
        "id": "OU0OLzCEnbbv"
      }
    },
    {
      "cell_type": "code",
      "source": [
        "from sklearn.ensemble import RandomForestRegressor\n",
        "\n",
        "rfr = RandomForestRegressor(n_estimators = 50).fit(X_train, y_train)\n",
        "\n",
        "rfr_train_pred = rfr.predict(X_train)\n",
        "rfr_test_pred = rfr.predict(X_test)\n",
        "\n",
        "\n",
        "rfr_train_mse = mean_squared_error(y_train,rfr_train_pred)\n",
        "rfr_test_mse = mean_squared_error(y_test,rfr_test_pred)\n",
        "\n",
        "\n",
        "print('MSE train data: {:.4}, MSE test data: {:.4}'.format(rfr_train_mse, rfr_test_mse))\n",
        "\n",
        "print('RMSE train data: {:.4}, RMSE test data: {:.4}'.format(\n",
        "    np.sqrt(np.absolute(rfr_train_mse)), \n",
        "    np.sqrt(np.absolute(rfr_train_mse))))\n",
        "                                                               \n",
        "print('R2 train data: {:.4}, R2 test data: {:.4}'.format(\n",
        "    r2_score(y_train, rfr_train_pred),\n",
        "    r2_score(y_test, rfr_test_pred)))"
      ],
      "metadata": {
        "id": "Gfg6p6ZzMXDY",
        "colab": {
          "base_uri": "https://localhost:8080/"
        },
        "outputId": "5f711de2-773f-4bf7-a000-ff6084a3cdd5"
      },
      "execution_count": 203,
      "outputs": [
        {
          "output_type": "stream",
          "name": "stdout",
          "text": [
            "MSE train data: 0.02541, MSE test data: 0.1437\n",
            "RMSE train data: 0.1594, RMSE test data: 0.1594\n",
            "R2 train data: 0.9742, R2 test data: 0.8643\n"
          ]
        }
      ]
    },
    {
      "cell_type": "markdown",
      "source": [
        "Increasing number of estimators"
      ],
      "metadata": {
        "id": "aR3DC4ian-TA"
      }
    },
    {
      "cell_type": "code",
      "source": [
        "from sklearn.ensemble import RandomForestRegressor\n",
        "\n",
        "rfr = RandomForestRegressor(n_estimators = 100).fit(X_train, y_train)\n",
        "\n",
        "rfr_train_pred = rfr.predict(X_train)\n",
        "rfr_test_pred = rfr.predict(X_test)\n",
        "\n",
        "\n",
        "rfr_train_mse = mean_squared_error(y_train,rfr_train_pred)\n",
        "rfr_test_mse = mean_squared_error(y_test,rfr_test_pred)\n",
        "\n",
        "\n",
        "print('MSE train data: {:.4}, MSE test data: {:.4}'.format(rfr_train_mse, rfr_test_mse))\n",
        "\n",
        "print('RMSE train data: {:.4}, RMSE test data: {:.4}'.format(\n",
        "    np.sqrt(np.absolute(rfr_train_mse)), \n",
        "    np.sqrt(np.absolute(rfr_train_mse))))\n",
        "                                                               \n",
        "print('R2 train data: {:.4}, R2 test data: {:.4}'.format(\n",
        "    r2_score(y_train, rfr_train_pred),\n",
        "    r2_score(y_test, rfr_test_pred)))"
      ],
      "metadata": {
        "colab": {
          "base_uri": "https://localhost:8080/"
        },
        "id": "IAqkxZOXn-lm",
        "outputId": "886e569e-b933-4fd0-ace8-d92f28b99f91"
      },
      "execution_count": 204,
      "outputs": [
        {
          "output_type": "stream",
          "name": "stdout",
          "text": [
            "MSE train data: 0.02417, MSE test data: 0.142\n",
            "RMSE train data: 0.1555, RMSE test data: 0.1555\n",
            "R2 train data: 0.9755, R2 test data: 0.866\n"
          ]
        }
      ]
    },
    {
      "cell_type": "code",
      "source": [
        "from sklearn.ensemble import RandomForestRegressor\n",
        "\n",
        "rfr = RandomForestRegressor(n_estimators = 250).fit(X_train, y_train)\n",
        "\n",
        "rfr_train_pred = rfr.predict(X_train)\n",
        "rfr_test_pred = rfr.predict(X_test)\n",
        "\n",
        "\n",
        "rfr_train_mse = mean_squared_error(y_train,rfr_train_pred)\n",
        "rfr_test_mse = mean_squared_error(y_test,rfr_test_pred)\n",
        "\n",
        "\n",
        "print('MSE train data: {:.4}, MSE test data: {:.4}'.format(rfr_train_mse, rfr_test_mse))\n",
        "\n",
        "print('RMSE train data: {:.4}, RMSE test data: {:.4}'.format(\n",
        "    np.sqrt(np.absolute(rfr_train_mse)), \n",
        "    np.sqrt(np.absolute(rfr_train_mse))))\n",
        "                                                               \n",
        "print('R2 train data: {:.4}, R2 test data: {:.4}'.format(\n",
        "    r2_score(y_train, rfr_train_pred),\n",
        "    r2_score(y_test, rfr_test_pred)))"
      ],
      "metadata": {
        "colab": {
          "base_uri": "https://localhost:8080/"
        },
        "id": "TBu0CKSwoJd6",
        "outputId": "b9f98dfd-6814-4710-f4d9-f8e978a7f161"
      },
      "execution_count": 205,
      "outputs": [
        {
          "output_type": "stream",
          "name": "stdout",
          "text": [
            "MSE train data: 0.0237, MSE test data: 0.1416\n",
            "RMSE train data: 0.1539, RMSE test data: 0.1539\n",
            "R2 train data: 0.9759, R2 test data: 0.8663\n"
          ]
        }
      ]
    },
    {
      "cell_type": "code",
      "source": [
        "from sklearn.ensemble import RandomForestRegressor\n",
        "\n",
        "rfr = RandomForestRegressor(n_estimators = 550).fit(X_train, y_train)\n",
        "\n",
        "rfr_train_pred = rfr.predict(X_train)\n",
        "rfr_test_pred = rfr.predict(X_test)\n",
        "\n",
        "\n",
        "rfr_train_mse = mean_squared_error(y_train,rfr_train_pred)\n",
        "rfr_test_mse = mean_squared_error(y_test,rfr_test_pred)\n",
        "\n",
        "\n",
        "print('MSE train data: {:.4}, MSE test data: {:.4}'.format(rfr_train_mse, rfr_test_mse))\n",
        "\n",
        "print('RMSE train data: {:.4}, RMSE test data: {:.4}'.format(\n",
        "    np.sqrt(np.absolute(rfr_train_mse)), \n",
        "    np.sqrt(np.absolute(rfr_train_mse))))\n",
        "                                                               \n",
        "print('R2 train data: {:.4}, R2 test data: {:.4}'.format(\n",
        "    r2_score(y_train, rfr_train_pred),\n",
        "    r2_score(y_test, rfr_test_pred)))"
      ],
      "metadata": {
        "colab": {
          "base_uri": "https://localhost:8080/"
        },
        "id": "dXrq5pKVoOsQ",
        "outputId": "5904a071-ec8a-455f-be89-9b18e624f6d1"
      },
      "execution_count": 206,
      "outputs": [
        {
          "output_type": "stream",
          "name": "stdout",
          "text": [
            "MSE train data: 0.02375, MSE test data: 0.1421\n",
            "RMSE train data: 0.1541, RMSE test data: 0.1541\n",
            "R2 train data: 0.9759, R2 test data: 0.8658\n"
          ]
        }
      ]
    },
    {
      "cell_type": "code",
      "source": [
        "from sklearn.ensemble import RandomForestRegressor\n",
        "\n",
        "rfr = RandomForestRegressor(n_estimators = 850).fit(X_train, y_train)\n",
        "\n",
        "rfr_train_pred = rfr.predict(X_train)\n",
        "rfr_test_pred = rfr.predict(X_test)\n",
        "\n",
        "\n",
        "rfr_train_mse = mean_squared_error(y_train,rfr_train_pred)\n",
        "rfr_test_mse = mean_squared_error(y_test,rfr_test_pred)\n",
        "\n",
        "\n",
        "print('MSE train data: {:.4}, MSE test data: {:.4}'.format(rfr_train_mse, rfr_test_mse))\n",
        "\n",
        "print('RMSE train data: {:.4}, RMSE test data: {:.4}'.format(\n",
        "    np.sqrt(np.absolute(rfr_train_mse)), \n",
        "    np.sqrt(np.absolute(rfr_train_mse))))\n",
        "                                                               \n",
        "print('R2 train data: {:.4}, R2 test data: {:.4}'.format(\n",
        "    r2_score(y_train, rfr_train_pred),\n",
        "    r2_score(y_test, rfr_test_pred)))"
      ],
      "metadata": {
        "colab": {
          "base_uri": "https://localhost:8080/"
        },
        "id": "vYhWRoGkUNSk",
        "outputId": "520a90ef-766b-42e7-e886-e8c6ca1fdad1"
      },
      "execution_count": 207,
      "outputs": [
        {
          "output_type": "stream",
          "name": "stdout",
          "text": [
            "MSE train data: 0.02377, MSE test data: 0.1402\n",
            "RMSE train data: 0.1542, RMSE test data: 0.1542\n",
            "R2 train data: 0.9759, R2 test data: 0.8677\n"
          ]
        }
      ]
    },
    {
      "cell_type": "markdown",
      "source": [
        "We can see that now the R^2 values of test data decreases as we have increased the number of estimators\n",
        "\n",
        "\n",
        "MSE error is getting reduced as we are increasing the number of estimators."
      ],
      "metadata": {
        "id": "ykvMSHqHofjo"
      }
    },
    {
      "cell_type": "markdown",
      "metadata": {
        "id": "7BJoPeBfuvp9"
      },
      "source": [
        "## Ridge Regressor"
      ]
    },
    {
      "cell_type": "code",
      "source": [
        "X_c = data_copy.drop('charges',axis=1).values\n",
        "y_c = data_copy['charges'].values.reshape(-1,1)\n",
        "\n",
        "X_train_c, X_test_c, y_train_c, y_test_c = train_test_split(X_c,y_c,test_size=0.2, random_state=42)\n",
        "\n",
        "X_train_scaled = StandardScaler().fit_transform(X_train_c)\n",
        "y_train_scaled = StandardScaler().fit_transform(y_train_c)\n",
        "X_test_scaled = StandardScaler().fit_transform(X_test_c)\n",
        "y_test_scaled = StandardScaler().fit_transform(y_test_c)"
      ],
      "metadata": {
        "id": "869md53qT-Bf"
      },
      "execution_count": 208,
      "outputs": []
    },
    {
      "cell_type": "code",
      "execution_count": 209,
      "metadata": {
        "id": "hgzJnjo8uvp9"
      },
      "outputs": [],
      "source": [
        "from sklearn.preprocessing import PolynomialFeatures, StandardScaler\n",
        "from sklearn.pipeline import Pipeline\n",
        "from sklearn.linear_model import Ridge\n",
        "\n",
        "steps = [ ('scalar', StandardScaler()),\n",
        "        ('poly', PolynomialFeatures(degree=2)),\n",
        "        ('model', Ridge())]\n",
        "\n",
        "ridge_pipe = Pipeline(steps)"
      ]
    },
    {
      "cell_type": "code",
      "execution_count": 210,
      "metadata": {
        "id": "P8Z-Kt8wuvp9"
      },
      "outputs": [],
      "source": [
        "parameters = { 'model__alpha': [1e-15, 1e-10, 1e-8, 1e-3, 1e-2,1,2,5,10,20,25,35, 43,55,100], 'model__random_state' : [42]}\n",
        "reg_ridge = GridSearchCV(ridge_pipe, parameters, cv=10)\n",
        "reg_ridge = reg_ridge.fit(X_train, y_train.ravel())"
      ]
    },
    {
      "cell_type": "code",
      "execution_count": 211,
      "metadata": {
        "colab": {
          "base_uri": "https://localhost:8080/"
        },
        "id": "ZywAOyEMuvp9",
        "outputId": "58a7ad3a-d354-47e4-962a-2aa36c6aa65a"
      },
      "outputs": [
        {
          "output_type": "execute_result",
          "data": {
            "text/plain": [
              "(Pipeline(steps=[('scalar', StandardScaler()), ('poly', PolynomialFeatures()),\n",
              "                 ('model', Ridge(alpha=20, random_state=42))]),\n",
              " 0.8259990140429396)"
            ]
          },
          "metadata": {},
          "execution_count": 211
        }
      ],
      "source": [
        "reg_ridge.best_estimator_, reg_ridge.best_score_"
      ]
    },
    {
      "cell_type": "code",
      "execution_count": 212,
      "metadata": {
        "colab": {
          "base_uri": "https://localhost:8080/"
        },
        "id": "q_X27cmpuvp-",
        "outputId": "45e90424-7ff1-4343-9346-4c271076814f"
      },
      "outputs": [
        {
          "output_type": "stream",
          "name": "stdout",
          "text": [
            "R2 score (train) : 0.74115\n",
            "R2 score (test) : 0.78380\n",
            "RMSE : 0.46521\n"
          ]
        }
      ],
      "source": [
        "ridge = Ridge(alpha=20, random_state=42)\n",
        "ridge.fit(X_train_scaled, y_train_scaled.ravel())\n",
        "\n",
        "\n",
        "y_pred_ridge_train = ridge.predict(X_train_scaled)\n",
        "r2_score_ridge_train = r2_score(y_train_scaled, y_pred_ridge_train)\n",
        "\n",
        "y_pred_ridge_test = ridge.predict(X_test_scaled)\n",
        "r2_score_ridge_test = r2_score(y_test_scaled, y_pred_ridge_test)\n",
        "\n",
        "rmse_ridge = (np.sqrt(mean_squared_error(y_test_scaled, y_pred_linear_reg_test)))\n",
        "print('R2 score (train) : {0:.5f}'.format(r2_score_ridge_train))\n",
        "print('R2 score (test) : {0:.5f}'.format(r2_score_ridge_test))\n",
        "print('RMSE : {0:.5f}'.format(rmse_ridge))"
      ]
    },
    {
      "cell_type": "markdown",
      "source": [
        "Changing the aplha value"
      ],
      "metadata": {
        "id": "lqoLdB6bqkjD"
      }
    },
    {
      "cell_type": "code",
      "source": [
        "ridge = Ridge(alpha=35, random_state=42)\n",
        "ridge.fit(X_train_scaled, y_train_scaled.ravel())\n",
        "\n",
        "\n",
        "y_pred_ridge_train = ridge.predict(X_train_scaled)\n",
        "r2_score_ridge_train = r2_score(y_train_scaled, y_pred_ridge_train)\n",
        "\n",
        "y_pred_ridge_test = ridge.predict(X_test_scaled)\n",
        "r2_score_ridge_test = r2_score(y_test_scaled, y_pred_ridge_test)\n",
        "\n",
        "rmse_ridge = (np.sqrt(mean_squared_error(y_test_scaled, y_pred_linear_reg_test)))\n",
        "print('R2 score (train) : {0:.5f}'.format(r2_score_ridge_train))\n",
        "print('R2 score (test) : {0:.5f}'.format(r2_score_ridge_test))\n",
        "print('RMSE : {0:.5f}'.format(rmse_ridge))"
      ],
      "metadata": {
        "colab": {
          "base_uri": "https://localhost:8080/"
        },
        "id": "96HTtvlPqiYu",
        "outputId": "64c6eaa8-9cb2-4ba4-df6a-bd539ca63098"
      },
      "execution_count": 213,
      "outputs": [
        {
          "output_type": "stream",
          "name": "stdout",
          "text": [
            "R2 score (train) : 0.74064\n",
            "R2 score (test) : 0.78351\n",
            "RMSE : 0.46521\n"
          ]
        }
      ]
    },
    {
      "cell_type": "code",
      "source": [
        "ridge = Ridge(alpha=10, random_state=42)\n",
        "ridge.fit(X_train_scaled, y_train_scaled.ravel())\n",
        "\n",
        "\n",
        "y_pred_ridge_train = ridge.predict(X_train_scaled)\n",
        "r2_score_ridge_train = r2_score(y_train_scaled, y_pred_ridge_train)\n",
        "\n",
        "y_pred_ridge_test = ridge.predict(X_test_scaled)\n",
        "r2_score_ridge_test = r2_score(y_test_scaled, y_pred_ridge_test)\n",
        "\n",
        "rmse_ridge = (np.sqrt(mean_squared_error(y_test_scaled, y_pred_linear_reg_test)))\n",
        "print('R2 score (train) : {0:.5f}'.format(r2_score_ridge_train))\n",
        "print('R2 score (test) : {0:.5f}'.format(r2_score_ridge_test))\n",
        "print('RMSE : {0:.5f}'.format(rmse_ridge))"
      ],
      "metadata": {
        "colab": {
          "base_uri": "https://localhost:8080/"
        },
        "id": "DfiUGl3SqyF7",
        "outputId": "14bd9ee8-3ac7-4947-fe75-b6cea36b497a"
      },
      "execution_count": 214,
      "outputs": [
        {
          "output_type": "stream",
          "name": "stdout",
          "text": [
            "R2 score (train) : 0.74134\n",
            "R2 score (test) : 0.78383\n",
            "RMSE : 0.46521\n"
          ]
        }
      ]
    },
    {
      "cell_type": "markdown",
      "source": [
        "##Training Data without Scaling for RandomClassifie"
      ],
      "metadata": {
        "id": "yVButauQMrVT"
      }
    },
    {
      "cell_type": "code",
      "source": [
        "data_copy.head()"
      ],
      "metadata": {
        "colab": {
          "base_uri": "https://localhost:8080/",
          "height": 206
        },
        "id": "Bd031n-jMtTJ",
        "outputId": "cf270db6-2656-4096-da1a-f74a43157be3"
      },
      "execution_count": 215,
      "outputs": [
        {
          "output_type": "execute_result",
          "data": {
            "text/plain": [
              "   age  sex     bmi  children  smoker  region      charges\n",
              "0   19    1  27.900         0       1       3  16884.92400\n",
              "1   18    0  33.770         1       0       2   1725.55230\n",
              "2   28    0  33.000         3       0       2   4449.46200\n",
              "3   33    0  22.705         0       0       0  21984.47061\n",
              "4   32    0  28.880         0       0       0   3866.85520"
            ],
            "text/html": [
              "\n",
              "  <div id=\"df-65aef59c-d85e-4864-8c25-ddc252ca6b56\">\n",
              "    <div class=\"colab-df-container\">\n",
              "      <div>\n",
              "<style scoped>\n",
              "    .dataframe tbody tr th:only-of-type {\n",
              "        vertical-align: middle;\n",
              "    }\n",
              "\n",
              "    .dataframe tbody tr th {\n",
              "        vertical-align: top;\n",
              "    }\n",
              "\n",
              "    .dataframe thead th {\n",
              "        text-align: right;\n",
              "    }\n",
              "</style>\n",
              "<table border=\"1\" class=\"dataframe\">\n",
              "  <thead>\n",
              "    <tr style=\"text-align: right;\">\n",
              "      <th></th>\n",
              "      <th>age</th>\n",
              "      <th>sex</th>\n",
              "      <th>bmi</th>\n",
              "      <th>children</th>\n",
              "      <th>smoker</th>\n",
              "      <th>region</th>\n",
              "      <th>charges</th>\n",
              "    </tr>\n",
              "  </thead>\n",
              "  <tbody>\n",
              "    <tr>\n",
              "      <th>0</th>\n",
              "      <td>19</td>\n",
              "      <td>1</td>\n",
              "      <td>27.900</td>\n",
              "      <td>0</td>\n",
              "      <td>1</td>\n",
              "      <td>3</td>\n",
              "      <td>16884.92400</td>\n",
              "    </tr>\n",
              "    <tr>\n",
              "      <th>1</th>\n",
              "      <td>18</td>\n",
              "      <td>0</td>\n",
              "      <td>33.770</td>\n",
              "      <td>1</td>\n",
              "      <td>0</td>\n",
              "      <td>2</td>\n",
              "      <td>1725.55230</td>\n",
              "    </tr>\n",
              "    <tr>\n",
              "      <th>2</th>\n",
              "      <td>28</td>\n",
              "      <td>0</td>\n",
              "      <td>33.000</td>\n",
              "      <td>3</td>\n",
              "      <td>0</td>\n",
              "      <td>2</td>\n",
              "      <td>4449.46200</td>\n",
              "    </tr>\n",
              "    <tr>\n",
              "      <th>3</th>\n",
              "      <td>33</td>\n",
              "      <td>0</td>\n",
              "      <td>22.705</td>\n",
              "      <td>0</td>\n",
              "      <td>0</td>\n",
              "      <td>0</td>\n",
              "      <td>21984.47061</td>\n",
              "    </tr>\n",
              "    <tr>\n",
              "      <th>4</th>\n",
              "      <td>32</td>\n",
              "      <td>0</td>\n",
              "      <td>28.880</td>\n",
              "      <td>0</td>\n",
              "      <td>0</td>\n",
              "      <td>0</td>\n",
              "      <td>3866.85520</td>\n",
              "    </tr>\n",
              "  </tbody>\n",
              "</table>\n",
              "</div>\n",
              "      <button class=\"colab-df-convert\" onclick=\"convertToInteractive('df-65aef59c-d85e-4864-8c25-ddc252ca6b56')\"\n",
              "              title=\"Convert this dataframe to an interactive table.\"\n",
              "              style=\"display:none;\">\n",
              "        \n",
              "  <svg xmlns=\"http://www.w3.org/2000/svg\" height=\"24px\"viewBox=\"0 0 24 24\"\n",
              "       width=\"24px\">\n",
              "    <path d=\"M0 0h24v24H0V0z\" fill=\"none\"/>\n",
              "    <path d=\"M18.56 5.44l.94 2.06.94-2.06 2.06-.94-2.06-.94-.94-2.06-.94 2.06-2.06.94zm-11 1L8.5 8.5l.94-2.06 2.06-.94-2.06-.94L8.5 2.5l-.94 2.06-2.06.94zm10 10l.94 2.06.94-2.06 2.06-.94-2.06-.94-.94-2.06-.94 2.06-2.06.94z\"/><path d=\"M17.41 7.96l-1.37-1.37c-.4-.4-.92-.59-1.43-.59-.52 0-1.04.2-1.43.59L10.3 9.45l-7.72 7.72c-.78.78-.78 2.05 0 2.83L4 21.41c.39.39.9.59 1.41.59.51 0 1.02-.2 1.41-.59l7.78-7.78 2.81-2.81c.8-.78.8-2.07 0-2.86zM5.41 20L4 18.59l7.72-7.72 1.47 1.35L5.41 20z\"/>\n",
              "  </svg>\n",
              "      </button>\n",
              "      \n",
              "  <style>\n",
              "    .colab-df-container {\n",
              "      display:flex;\n",
              "      flex-wrap:wrap;\n",
              "      gap: 12px;\n",
              "    }\n",
              "\n",
              "    .colab-df-convert {\n",
              "      background-color: #E8F0FE;\n",
              "      border: none;\n",
              "      border-radius: 50%;\n",
              "      cursor: pointer;\n",
              "      display: none;\n",
              "      fill: #1967D2;\n",
              "      height: 32px;\n",
              "      padding: 0 0 0 0;\n",
              "      width: 32px;\n",
              "    }\n",
              "\n",
              "    .colab-df-convert:hover {\n",
              "      background-color: #E2EBFA;\n",
              "      box-shadow: 0px 1px 2px rgba(60, 64, 67, 0.3), 0px 1px 3px 1px rgba(60, 64, 67, 0.15);\n",
              "      fill: #174EA6;\n",
              "    }\n",
              "\n",
              "    [theme=dark] .colab-df-convert {\n",
              "      background-color: #3B4455;\n",
              "      fill: #D2E3FC;\n",
              "    }\n",
              "\n",
              "    [theme=dark] .colab-df-convert:hover {\n",
              "      background-color: #434B5C;\n",
              "      box-shadow: 0px 1px 3px 1px rgba(0, 0, 0, 0.15);\n",
              "      filter: drop-shadow(0px 1px 2px rgba(0, 0, 0, 0.3));\n",
              "      fill: #FFFFFF;\n",
              "    }\n",
              "  </style>\n",
              "\n",
              "      <script>\n",
              "        const buttonEl =\n",
              "          document.querySelector('#df-65aef59c-d85e-4864-8c25-ddc252ca6b56 button.colab-df-convert');\n",
              "        buttonEl.style.display =\n",
              "          google.colab.kernel.accessAllowed ? 'block' : 'none';\n",
              "\n",
              "        async function convertToInteractive(key) {\n",
              "          const element = document.querySelector('#df-65aef59c-d85e-4864-8c25-ddc252ca6b56');\n",
              "          const dataTable =\n",
              "            await google.colab.kernel.invokeFunction('convertToInteractive',\n",
              "                                                     [key], {});\n",
              "          if (!dataTable) return;\n",
              "\n",
              "          const docLinkHtml = 'Like what you see? Visit the ' +\n",
              "            '<a target=\"_blank\" href=https://colab.research.google.com/notebooks/data_table.ipynb>data table notebook</a>'\n",
              "            + ' to learn more about interactive tables.';\n",
              "          element.innerHTML = '';\n",
              "          dataTable['output_type'] = 'display_data';\n",
              "          await google.colab.output.renderOutput(dataTable, element);\n",
              "          const docLink = document.createElement('div');\n",
              "          docLink.innerHTML = docLinkHtml;\n",
              "          element.appendChild(docLink);\n",
              "        }\n",
              "      </script>\n",
              "    </div>\n",
              "  </div>\n",
              "  "
            ]
          },
          "metadata": {},
          "execution_count": 215
        }
      ]
    },
    {
      "cell_type": "code",
      "source": [
        "X_ = data_copy.drop('charges',axis=1).values\n",
        "y_ = data_copy['charges'].values.reshape(-1,1)\n",
        "\n",
        "from sklearn.model_selection import train_test_split\n",
        "X_train_, X_test_, y_train_, y_test_ = train_test_split(X_,y_,test_size=0.2, random_state=42)\n",
        "\n",
        "print('Size of X_train_ : ', X_train_.shape)\n",
        "print('Size of y_train_ : ', y_train_.shape)\n",
        "print('Size of X_test_ : ', X_test_.shape)\n",
        "print('Size of Y_test_ : ', y_test_.shape)"
      ],
      "metadata": {
        "colab": {
          "base_uri": "https://localhost:8080/"
        },
        "id": "vd-KBUBSMxXq",
        "outputId": "f54f8b89-1f00-437e-c421-b5f2986a971c"
      },
      "execution_count": 216,
      "outputs": [
        {
          "output_type": "stream",
          "name": "stdout",
          "text": [
            "Size of X_train_ :  (1070, 6)\n",
            "Size of y_train_ :  (1070, 1)\n",
            "Size of X_test_ :  (268, 6)\n",
            "Size of Y_test_ :  (268, 1)\n"
          ]
        }
      ]
    },
    {
      "cell_type": "code",
      "source": [
        "rf_reg = RandomForestRegressor(max_depth=50, min_samples_leaf=12, min_samples_split=7,\n",
        "                       n_estimators=1200)\n",
        "rf_reg.fit(X_train_, y_train_.ravel())"
      ],
      "metadata": {
        "colab": {
          "base_uri": "https://localhost:8080/"
        },
        "id": "erWx3860S9Zu",
        "outputId": "a31251e8-8d9d-4f66-f78d-aee0f02003e5"
      },
      "execution_count": 217,
      "outputs": [
        {
          "output_type": "execute_result",
          "data": {
            "text/plain": [
              "RandomForestRegressor(max_depth=50, min_samples_leaf=12, min_samples_split=7,\n",
              "                      n_estimators=1200)"
            ]
          },
          "metadata": {},
          "execution_count": 217
        }
      ]
    },
    {
      "cell_type": "code",
      "source": [
        "y_pred_rf_train_ = rf_reg.predict(X_train_)\n",
        "r2_score_rf_train_ = r2_score(y_train_, y_pred_rf_train_)\n",
        "\n",
        "y_pred_rf_test_ = rf_reg.predict(X_test_)\n",
        "r2_score_rf_test_ = r2_score(y_test_, y_pred_rf_test_)\n",
        "\n",
        "print('R2 score (train) : {0:.3f}'.format(r2_score_rf_train_))\n",
        "print('R2 score (test) : {0:.3f}'.format(r2_score_rf_test_))"
      ],
      "metadata": {
        "colab": {
          "base_uri": "https://localhost:8080/"
        },
        "id": "o7D1lYfaTCxY",
        "outputId": "f417194d-0707-4505-db67-10d6832c423a"
      },
      "execution_count": 218,
      "outputs": [
        {
          "output_type": "stream",
          "name": "stdout",
          "text": [
            "R2 score (train) : 0.884\n",
            "R2 score (test) : 0.878\n"
          ]
        }
      ]
    },
    {
      "cell_type": "markdown",
      "source": [
        "## Support Vector Regression"
      ],
      "metadata": {
        "id": "9IuJOPRjWWBn"
      }
    },
    {
      "cell_type": "code",
      "source": [
        "X_c = data_copy.drop('charges',axis=1).values\n",
        "y_c = data_copy['charges'].values.reshape(-1,1)\n",
        "\n",
        "X_train_c, X_test_c, y_train_c, y_test_c = train_test_split(X_c,y_c,test_size=0.2, random_state=42)\n",
        "\n",
        "X_train_scaled = StandardScaler().fit_transform(X_train_c)\n",
        "y_train_scaled = StandardScaler().fit_transform(y_train_c)\n",
        "X_test_scaled = StandardScaler().fit_transform(X_test_c)\n",
        "y_test_scaled = StandardScaler().fit_transform(y_test_c)\n",
        "\n",
        "svr = SVR()"
      ],
      "metadata": {
        "id": "gVUljNVITIf6"
      },
      "execution_count": 219,
      "outputs": []
    },
    {
      "cell_type": "code",
      "source": [
        "svr = SVR(C=10, gamma=0.1, tol=0.0001)\n",
        "svr.fit(X_train_scaled, y_train_scaled.ravel())"
      ],
      "metadata": {
        "colab": {
          "base_uri": "https://localhost:8080/"
        },
        "id": "ASxfryxwWdEn",
        "outputId": "235b2ffb-6301-41a4-a001-a0a2a795d293"
      },
      "execution_count": 220,
      "outputs": [
        {
          "output_type": "execute_result",
          "data": {
            "text/plain": [
              "SVR(C=10, gamma=0.1, tol=0.0001)"
            ]
          },
          "metadata": {},
          "execution_count": 220
        }
      ]
    },
    {
      "cell_type": "code",
      "source": [
        "y_pred_svr_train = svr.predict(X_train_scaled)\n",
        "r2_score_svr_train = r2_score(y_train_scaled, y_pred_svr_train)\n",
        "\n",
        "y_pred_svr_test = svr.predict(X_test_scaled)\n",
        "r2_score_svr_test = r2_score(y_test_scaled, y_pred_svr_test)\n",
        "\n",
        "rmse_svr = (np.sqrt(mean_squared_error(y_test_scaled, y_pred_svr_test)))\n",
        "\n",
        "print('R2_score (train) : {0:.3f}'.format(r2_score_svr_train))\n",
        "print('R2 score (test) : {0:.3f}'.format(r2_score_svr_test))\n",
        "print('RMSE : {0:.3f}'.format(rmse_svr))"
      ],
      "metadata": {
        "colab": {
          "base_uri": "https://localhost:8080/"
        },
        "id": "KKwMjhooWhUG",
        "outputId": "d8fad54e-97a3-4dbb-a2b6-ae13b0f1711f"
      },
      "execution_count": 221,
      "outputs": [
        {
          "output_type": "stream",
          "name": "stdout",
          "text": [
            "R2_score (train) : 0.857\n",
            "R2 score (test) : 0.871\n",
            "RMSE : 0.359\n"
          ]
        }
      ]
    },
    {
      "cell_type": "code",
      "source": [
        "svr = SVR(C=50, gamma=0.1, tol=0.0001)\n",
        "svr.fit(X_train_scaled, y_train_scaled.ravel())"
      ],
      "metadata": {
        "colab": {
          "base_uri": "https://localhost:8080/"
        },
        "id": "YggwHAR_WrL4",
        "outputId": "0aea8d2a-4d8a-4289-a1da-e2f2a16dd663"
      },
      "execution_count": 222,
      "outputs": [
        {
          "output_type": "execute_result",
          "data": {
            "text/plain": [
              "SVR(C=50, gamma=0.1, tol=0.0001)"
            ]
          },
          "metadata": {},
          "execution_count": 222
        }
      ]
    },
    {
      "cell_type": "code",
      "source": [
        "y_pred_svr_train = svr.predict(X_train_scaled)\n",
        "r2_score_svr_train = r2_score(y_train_scaled, y_pred_svr_train)\n",
        "\n",
        "y_pred_svr_test = svr.predict(X_test_scaled)\n",
        "r2_score_svr_test = r2_score(y_test_scaled, y_pred_svr_test)\n",
        "\n",
        "rmse_svr = (np.sqrt(mean_squared_error(y_test_scaled, y_pred_svr_test)))\n",
        "\n",
        "print('R2_score (train) : {0:.3f}'.format(r2_score_svr_train))\n",
        "print('R2 score (test) : {0:.3f}'.format(r2_score_svr_test))\n",
        "print('RMSE : {0:.3f}'.format(rmse_svr))"
      ],
      "metadata": {
        "colab": {
          "base_uri": "https://localhost:8080/"
        },
        "id": "GonzHxGHWvy5",
        "outputId": "5912d66c-ff0e-4512-d73e-3404736cd46c"
      },
      "execution_count": 223,
      "outputs": [
        {
          "output_type": "stream",
          "name": "stdout",
          "text": [
            "R2_score (train) : 0.866\n",
            "R2 score (test) : 0.868\n",
            "RMSE : 0.364\n"
          ]
        }
      ]
    },
    {
      "cell_type": "code",
      "source": [
        "svr = SVR(C=50, gamma=0.6, tol=0.0001)\n",
        "svr.fit(X_train_scaled, y_train_scaled.ravel())"
      ],
      "metadata": {
        "colab": {
          "base_uri": "https://localhost:8080/"
        },
        "id": "qYTki8tcWzNZ",
        "outputId": "3b0058f4-55dd-4ab7-bf6b-b687b1f93f46"
      },
      "execution_count": 224,
      "outputs": [
        {
          "output_type": "execute_result",
          "data": {
            "text/plain": [
              "SVR(C=50, gamma=0.6, tol=0.0001)"
            ]
          },
          "metadata": {},
          "execution_count": 224
        }
      ]
    },
    {
      "cell_type": "code",
      "source": [
        "y_pred_svr_train = svr.predict(X_train_scaled)\n",
        "r2_score_svr_train = r2_score(y_train_scaled, y_pred_svr_train)\n",
        "\n",
        "y_pred_svr_test = svr.predict(X_test_scaled)\n",
        "r2_score_svr_test = r2_score(y_test_scaled, y_pred_svr_test)\n",
        "\n",
        "rmse_svr = (np.sqrt(mean_squared_error(y_test_scaled, y_pred_svr_test)))\n",
        "\n",
        "print('R2_score (train) : {0:.3f}'.format(r2_score_svr_train))\n",
        "print('R2 score (test) : {0:.3f}'.format(r2_score_svr_test))\n",
        "print('RMSE : {0:.3f}'.format(rmse_svr))"
      ],
      "metadata": {
        "colab": {
          "base_uri": "https://localhost:8080/"
        },
        "id": "g6muMoSbWwVG",
        "outputId": "47ca8106-e692-4986-9b05-2586a853f0b7"
      },
      "execution_count": 225,
      "outputs": [
        {
          "output_type": "stream",
          "name": "stdout",
          "text": [
            "R2_score (train) : 0.943\n",
            "R2 score (test) : 0.694\n",
            "RMSE : 0.553\n"
          ]
        }
      ]
    }
  ],
  "metadata": {
    "kernelspec": {
      "display_name": "Python 3",
      "language": "python",
      "name": "python3"
    },
    "language_info": {
      "codemirror_mode": {
        "name": "ipython",
        "version": 3
      },
      "file_extension": ".py",
      "mimetype": "text/x-python",
      "name": "python",
      "nbconvert_exporter": "python",
      "pygments_lexer": "ipython3",
      "version": "3.7.3"
    },
    "colab": {
      "name": "Medical Cost Insurance.ipynb",
      "provenance": [],
      "collapsed_sections": [
        "98PjhSm0uvp4"
      ]
    }
  },
  "nbformat": 4,
  "nbformat_minor": 0
}